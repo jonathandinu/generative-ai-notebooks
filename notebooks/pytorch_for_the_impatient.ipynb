{
  "nbformat": 4,
  "nbformat_minor": 0,
  "metadata": {
    "colab": {
      "provenance": [],
      "toc_visible": true,
      "authorship_tag": "ABX9TyOL3LVWmLchejTU7U2TF6B7",
      "include_colab_link": true
    },
    "kernelspec": {
      "name": "python3",
      "display_name": "Python 3"
    },
    "language_info": {
      "name": "python"
    }
  },
  "cells": [
    {
      "cell_type": "markdown",
      "metadata": {
        "id": "view-in-github",
        "colab_type": "text"
      },
      "source": [
        "<a href=\"https://colab.research.google.com/github/jonathandinu/generative-ai/blob/main/notebooks/pytorch_for_the_impatient.ipynb\" target=\"_parent\"><img src=\"https://colab.research.google.com/assets/colab-badge.svg\" alt=\"Open In Colab\"/></a>"
      ]
    },
    {
      "cell_type": "markdown",
      "source": [
        "Welcome to Jonathan Dinu's \"blog\"... for a list of posts please see the index on Github [https://github.com/jonathandinu/generative-ai](https://github.com/jonathandinu/generative-ai).\n",
        "\n",
        "Comments are welcome and encouraged!\n",
        "\n",
        "CHA CHA CHA CHANGES\n",
        "#### Copyright Notice\n",
        "\n",
        "©️ 2024 Jonathan Dinu. All Rights Reserved. Reproduction in part or whole of the text, images, and code is expressly prohibited. For permission to use the content please contact copyright@jonathandinu.com.\n"
      ],
      "metadata": {
        "id": "g5dOvlTj6T3t"
      }
    },
    {
      "cell_type": "code",
      "source": [],
      "metadata": {
        "id": "0nEzhcSg6J7n"
      },
      "execution_count": null,
      "outputs": []
    }
  ]
}